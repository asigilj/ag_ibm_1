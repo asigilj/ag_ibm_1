{
 "cells": [
  {
   "cell_type": "markdown",
   "id": "4a7f1e4a",
   "metadata": {},
   "source": [
    "# Data Science Tools and Ecosystem using "
   ]
  },
  {
   "cell_type": "markdown",
   "id": "022ee3f4",
   "metadata": {},
   "source": [
    " In this notebook, Data Science Tools and Ecosystem are summarized."
   ]
  },
  {
   "cell_type": "markdown",
   "id": "6d518cc5",
   "metadata": {},
   "source": [
    "Some of the popular languages that Data Scientists use are:\n",
    "1. java\n",
    "2. python\n",
    "3. R"
   ]
  },
  {
   "cell_type": "markdown",
   "id": "66cc3485",
   "metadata": {},
   "source": [
    " Some of the commonly used libraries used by Data Scientists include:\n",
    "- scikit\n",
    "- ggplot\n",
    "- diplr"
   ]
  },
  {
   "cell_type": "markdown",
   "id": "10b29899",
   "metadata": {},
   "source": [
    "|Data Science Tools |\n",
    "---------------------\n",
    "| git                |\n",
    "| jupiter            |\n",
    "|vs code            |\n",
    "---------------------\n"
   ]
  },
  {
   "cell_type": "markdown",
   "id": "01d9d58d",
   "metadata": {},
   "source": [
    "### Below are a few examples of evaluating arithmetic expressions in Python. ###\n",
    "10 * (1+2)"
   ]
  },
  {
   "cell_type": "code",
   "execution_count": 6,
   "id": "76596040",
   "metadata": {},
   "outputs": [
    {
     "data": {
      "text/plain": [
       "17"
      ]
     },
     "execution_count": 6,
     "metadata": {},
     "output_type": "execute_result"
    }
   ],
   "source": [
    "#  This a simple arithmetic expression to mutiply then add integers.\n",
    "(3*4)+5"
   ]
  },
  {
   "cell_type": "code",
   "execution_count": 7,
   "id": "5cea60aa",
   "metadata": {},
   "outputs": [
    {
     "data": {
      "text/plain": [
       "3.3333333333333335"
      ]
     },
     "execution_count": 7,
     "metadata": {},
     "output_type": "execute_result"
    }
   ],
   "source": [
    "# This will convert 200 minutes to hours by diving by 60\n",
    "200 / 60"
   ]
  },
  {
   "cell_type": "markdown",
   "id": "3cc00a6b",
   "metadata": {},
   "source": [
    "## Objectives: ## \n",
    "\n",
    "- R\n",
    "- python\n",
    "- C\n",
    "   "
   ]
  },
  {
   "cell_type": "markdown",
   "id": "3ef54d77",
   "metadata": {},
   "source": []
  },
  {
   "cell_type": "markdown",
   "id": "4948d03e",
   "metadata": {},
   "source": [
    "## Author ##\n",
    "Asaf Gilad"
   ]
  },
  {
   "cell_type": "markdown",
   "id": "bfc4bf5a",
   "metadata": {},
   "source": []
  },
  {
   "cell_type": "code",
   "execution_count": null,
   "id": "398cad4a",
   "metadata": {},
   "outputs": [],
   "source": []
  }
 ],
 "metadata": {
  "kernelspec": {
   "display_name": "Python 3 (ipykernel)",
   "language": "python",
   "name": "python3"
  },
  "language_info": {
   "codemirror_mode": {
    "name": "ipython",
    "version": 3
   },
   "file_extension": ".py",
   "mimetype": "text/x-python",
   "name": "python",
   "nbconvert_exporter": "python",
   "pygments_lexer": "ipython3",
   "version": "3.9.12"
  }
 },
 "nbformat": 4,
 "nbformat_minor": 5
}
